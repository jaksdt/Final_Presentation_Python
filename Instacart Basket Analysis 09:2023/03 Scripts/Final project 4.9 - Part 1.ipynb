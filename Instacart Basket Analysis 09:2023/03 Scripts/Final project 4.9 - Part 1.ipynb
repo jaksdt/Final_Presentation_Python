{
 "cells": [
  {
   "cell_type": "markdown",
   "id": "4574c03f",
   "metadata": {},
   "source": [
    "#  Part 1"
   ]
  },
  {
   "cell_type": "markdown",
   "id": "92d4988a",
   "metadata": {},
   "source": [
    "## Step 1 - Done"
   ]
  },
  {
   "cell_type": "markdown",
   "id": "b861047f",
   "metadata": {},
   "source": [
    "## Step 2 - Done"
   ]
  },
  {
   "cell_type": "markdown",
   "id": "2ba3cfb1",
   "metadata": {},
   "source": [
    "## Step 3 - Importing analysis libraries and data sets"
   ]
  },
  {
   "cell_type": "markdown",
   "id": "9ce7edb1",
   "metadata": {},
   "source": [
    "# 01. Importing libraries"
   ]
  },
  {
   "cell_type": "code",
   "execution_count": 1,
   "id": "108e5558",
   "metadata": {},
   "outputs": [],
   "source": [
    "import pandas as pd\n",
    "import numpy as np\n",
    "import os\n",
    "import matplotlib.pyplot as plt\n",
    "import seaborn as sns\n",
    "import scipy"
   ]
  },
  {
   "cell_type": "markdown",
   "id": "31928062",
   "metadata": {},
   "source": [
    "# 02. Importing dataframes"
   ]
  },
  {
   "cell_type": "code",
   "execution_count": 2,
   "id": "00b73b89",
   "metadata": {},
   "outputs": [],
   "source": [
    "# Creating path\n",
    "path = r'/Users/jaksdt/Desktop/Instacart Basket Analysis 09:2023'"
   ]
  },
  {
   "cell_type": "code",
   "execution_count": 3,
   "id": "4bd6e0e3",
   "metadata": {},
   "outputs": [],
   "source": [
    "ords_prods = pd.read_pickle(os.path.join(path, '02 Data', 'Prepared data', 'orders_products_merged_newest.pkl'))"
   ]
  },
  {
   "cell_type": "code",
   "execution_count": 5,
   "id": "876ad48a",
   "metadata": {},
   "outputs": [],
   "source": [
    "cust = pd.read_csv(os.path.join(path, '02 Data', 'Original data', 'customers.csv'), index_col = False)"
   ]
  },
  {
   "cell_type": "code",
   "execution_count": 6,
   "id": "016415f0",
   "metadata": {},
   "outputs": [
    {
     "data": {
      "text/html": [
       "<div>\n",
       "<style scoped>\n",
       "    .dataframe tbody tr th:only-of-type {\n",
       "        vertical-align: middle;\n",
       "    }\n",
       "\n",
       "    .dataframe tbody tr th {\n",
       "        vertical-align: top;\n",
       "    }\n",
       "\n",
       "    .dataframe thead th {\n",
       "        text-align: right;\n",
       "    }\n",
       "</style>\n",
       "<table border=\"1\" class=\"dataframe\">\n",
       "  <thead>\n",
       "    <tr style=\"text-align: right;\">\n",
       "      <th></th>\n",
       "      <th>user_id</th>\n",
       "      <th>First Name</th>\n",
       "      <th>Surnam</th>\n",
       "      <th>Gender</th>\n",
       "      <th>STATE</th>\n",
       "      <th>Age</th>\n",
       "      <th>date_joined</th>\n",
       "      <th>n_dependants</th>\n",
       "      <th>fam_status</th>\n",
       "      <th>income</th>\n",
       "    </tr>\n",
       "  </thead>\n",
       "  <tbody>\n",
       "    <tr>\n",
       "      <th>0</th>\n",
       "      <td>26711</td>\n",
       "      <td>Deborah</td>\n",
       "      <td>Esquivel</td>\n",
       "      <td>Female</td>\n",
       "      <td>Missouri</td>\n",
       "      <td>48</td>\n",
       "      <td>1/1/2017</td>\n",
       "      <td>3</td>\n",
       "      <td>married</td>\n",
       "      <td>165665</td>\n",
       "    </tr>\n",
       "    <tr>\n",
       "      <th>1</th>\n",
       "      <td>33890</td>\n",
       "      <td>Patricia</td>\n",
       "      <td>Hart</td>\n",
       "      <td>Female</td>\n",
       "      <td>New Mexico</td>\n",
       "      <td>36</td>\n",
       "      <td>1/1/2017</td>\n",
       "      <td>0</td>\n",
       "      <td>single</td>\n",
       "      <td>59285</td>\n",
       "    </tr>\n",
       "    <tr>\n",
       "      <th>2</th>\n",
       "      <td>65803</td>\n",
       "      <td>Kenneth</td>\n",
       "      <td>Farley</td>\n",
       "      <td>Male</td>\n",
       "      <td>Idaho</td>\n",
       "      <td>35</td>\n",
       "      <td>1/1/2017</td>\n",
       "      <td>2</td>\n",
       "      <td>married</td>\n",
       "      <td>99568</td>\n",
       "    </tr>\n",
       "    <tr>\n",
       "      <th>3</th>\n",
       "      <td>125935</td>\n",
       "      <td>Michelle</td>\n",
       "      <td>Hicks</td>\n",
       "      <td>Female</td>\n",
       "      <td>Iowa</td>\n",
       "      <td>40</td>\n",
       "      <td>1/1/2017</td>\n",
       "      <td>0</td>\n",
       "      <td>single</td>\n",
       "      <td>42049</td>\n",
       "    </tr>\n",
       "    <tr>\n",
       "      <th>4</th>\n",
       "      <td>130797</td>\n",
       "      <td>Ann</td>\n",
       "      <td>Gilmore</td>\n",
       "      <td>Female</td>\n",
       "      <td>Maryland</td>\n",
       "      <td>26</td>\n",
       "      <td>1/1/2017</td>\n",
       "      <td>1</td>\n",
       "      <td>married</td>\n",
       "      <td>40374</td>\n",
       "    </tr>\n",
       "  </tbody>\n",
       "</table>\n",
       "</div>"
      ],
      "text/plain": [
       "   user_id First Name    Surnam  Gender       STATE  Age date_joined  \\\n",
       "0    26711    Deborah  Esquivel  Female    Missouri   48    1/1/2017   \n",
       "1    33890   Patricia      Hart  Female  New Mexico   36    1/1/2017   \n",
       "2    65803    Kenneth    Farley    Male       Idaho   35    1/1/2017   \n",
       "3   125935   Michelle     Hicks  Female        Iowa   40    1/1/2017   \n",
       "4   130797        Ann   Gilmore  Female    Maryland   26    1/1/2017   \n",
       "\n",
       "   n_dependants fam_status  income  \n",
       "0             3    married  165665  \n",
       "1             0     single   59285  \n",
       "2             2    married   99568  \n",
       "3             0     single   42049  \n",
       "4             1    married   40374  "
      ]
     },
     "execution_count": 6,
     "metadata": {},
     "output_type": "execute_result"
    }
   ],
   "source": [
    "cust.head()"
   ]
  },
  {
   "cell_type": "code",
   "execution_count": 7,
   "id": "723a7fe4",
   "metadata": {},
   "outputs": [
    {
     "data": {
      "text/html": [
       "<div>\n",
       "<style scoped>\n",
       "    .dataframe tbody tr th:only-of-type {\n",
       "        vertical-align: middle;\n",
       "    }\n",
       "\n",
       "    .dataframe tbody tr th {\n",
       "        vertical-align: top;\n",
       "    }\n",
       "\n",
       "    .dataframe thead th {\n",
       "        text-align: right;\n",
       "    }\n",
       "</style>\n",
       "<table border=\"1\" class=\"dataframe\">\n",
       "  <thead>\n",
       "    <tr style=\"text-align: right;\">\n",
       "      <th></th>\n",
       "      <th>user_id</th>\n",
       "      <th>First Name</th>\n",
       "      <th>Surnam</th>\n",
       "      <th>Gender</th>\n",
       "      <th>STATE</th>\n",
       "      <th>Age</th>\n",
       "      <th>date_joined</th>\n",
       "      <th>n_dependants</th>\n",
       "      <th>fam_status</th>\n",
       "      <th>income</th>\n",
       "    </tr>\n",
       "  </thead>\n",
       "  <tbody>\n",
       "    <tr>\n",
       "      <th>0</th>\n",
       "      <td>26711</td>\n",
       "      <td>Deborah</td>\n",
       "      <td>Esquivel</td>\n",
       "      <td>Female</td>\n",
       "      <td>Missouri</td>\n",
       "      <td>48</td>\n",
       "      <td>1/1/2017</td>\n",
       "      <td>3</td>\n",
       "      <td>married</td>\n",
       "      <td>165665</td>\n",
       "    </tr>\n",
       "    <tr>\n",
       "      <th>1</th>\n",
       "      <td>33890</td>\n",
       "      <td>Patricia</td>\n",
       "      <td>Hart</td>\n",
       "      <td>Female</td>\n",
       "      <td>New Mexico</td>\n",
       "      <td>36</td>\n",
       "      <td>1/1/2017</td>\n",
       "      <td>0</td>\n",
       "      <td>single</td>\n",
       "      <td>59285</td>\n",
       "    </tr>\n",
       "    <tr>\n",
       "      <th>2</th>\n",
       "      <td>65803</td>\n",
       "      <td>Kenneth</td>\n",
       "      <td>Farley</td>\n",
       "      <td>Male</td>\n",
       "      <td>Idaho</td>\n",
       "      <td>35</td>\n",
       "      <td>1/1/2017</td>\n",
       "      <td>2</td>\n",
       "      <td>married</td>\n",
       "      <td>99568</td>\n",
       "    </tr>\n",
       "    <tr>\n",
       "      <th>3</th>\n",
       "      <td>125935</td>\n",
       "      <td>Michelle</td>\n",
       "      <td>Hicks</td>\n",
       "      <td>Female</td>\n",
       "      <td>Iowa</td>\n",
       "      <td>40</td>\n",
       "      <td>1/1/2017</td>\n",
       "      <td>0</td>\n",
       "      <td>single</td>\n",
       "      <td>42049</td>\n",
       "    </tr>\n",
       "    <tr>\n",
       "      <th>4</th>\n",
       "      <td>130797</td>\n",
       "      <td>Ann</td>\n",
       "      <td>Gilmore</td>\n",
       "      <td>Female</td>\n",
       "      <td>Maryland</td>\n",
       "      <td>26</td>\n",
       "      <td>1/1/2017</td>\n",
       "      <td>1</td>\n",
       "      <td>married</td>\n",
       "      <td>40374</td>\n",
       "    </tr>\n",
       "    <tr>\n",
       "      <th>...</th>\n",
       "      <td>...</td>\n",
       "      <td>...</td>\n",
       "      <td>...</td>\n",
       "      <td>...</td>\n",
       "      <td>...</td>\n",
       "      <td>...</td>\n",
       "      <td>...</td>\n",
       "      <td>...</td>\n",
       "      <td>...</td>\n",
       "      <td>...</td>\n",
       "    </tr>\n",
       "    <tr>\n",
       "      <th>206204</th>\n",
       "      <td>168073</td>\n",
       "      <td>Lisa</td>\n",
       "      <td>Case</td>\n",
       "      <td>Female</td>\n",
       "      <td>North Carolina</td>\n",
       "      <td>44</td>\n",
       "      <td>4/1/2020</td>\n",
       "      <td>1</td>\n",
       "      <td>married</td>\n",
       "      <td>148828</td>\n",
       "    </tr>\n",
       "    <tr>\n",
       "      <th>206205</th>\n",
       "      <td>49635</td>\n",
       "      <td>Jeremy</td>\n",
       "      <td>Robbins</td>\n",
       "      <td>Male</td>\n",
       "      <td>Hawaii</td>\n",
       "      <td>62</td>\n",
       "      <td>4/1/2020</td>\n",
       "      <td>3</td>\n",
       "      <td>married</td>\n",
       "      <td>168639</td>\n",
       "    </tr>\n",
       "    <tr>\n",
       "      <th>206206</th>\n",
       "      <td>135902</td>\n",
       "      <td>Doris</td>\n",
       "      <td>Richmond</td>\n",
       "      <td>Female</td>\n",
       "      <td>Missouri</td>\n",
       "      <td>66</td>\n",
       "      <td>4/1/2020</td>\n",
       "      <td>2</td>\n",
       "      <td>married</td>\n",
       "      <td>53374</td>\n",
       "    </tr>\n",
       "    <tr>\n",
       "      <th>206207</th>\n",
       "      <td>81095</td>\n",
       "      <td>Rose</td>\n",
       "      <td>Rollins</td>\n",
       "      <td>Female</td>\n",
       "      <td>California</td>\n",
       "      <td>27</td>\n",
       "      <td>4/1/2020</td>\n",
       "      <td>1</td>\n",
       "      <td>married</td>\n",
       "      <td>99799</td>\n",
       "    </tr>\n",
       "    <tr>\n",
       "      <th>206208</th>\n",
       "      <td>80148</td>\n",
       "      <td>Cynthia</td>\n",
       "      <td>Noble</td>\n",
       "      <td>Female</td>\n",
       "      <td>New York</td>\n",
       "      <td>55</td>\n",
       "      <td>4/1/2020</td>\n",
       "      <td>1</td>\n",
       "      <td>married</td>\n",
       "      <td>57095</td>\n",
       "    </tr>\n",
       "  </tbody>\n",
       "</table>\n",
       "<p>206209 rows × 10 columns</p>\n",
       "</div>"
      ],
      "text/plain": [
       "        user_id First Name    Surnam  Gender           STATE  Age date_joined  \\\n",
       "0         26711    Deborah  Esquivel  Female        Missouri   48    1/1/2017   \n",
       "1         33890   Patricia      Hart  Female      New Mexico   36    1/1/2017   \n",
       "2         65803    Kenneth    Farley    Male           Idaho   35    1/1/2017   \n",
       "3        125935   Michelle     Hicks  Female            Iowa   40    1/1/2017   \n",
       "4        130797        Ann   Gilmore  Female        Maryland   26    1/1/2017   \n",
       "...         ...        ...       ...     ...             ...  ...         ...   \n",
       "206204   168073       Lisa      Case  Female  North Carolina   44    4/1/2020   \n",
       "206205    49635     Jeremy   Robbins    Male          Hawaii   62    4/1/2020   \n",
       "206206   135902      Doris  Richmond  Female        Missouri   66    4/1/2020   \n",
       "206207    81095       Rose   Rollins  Female      California   27    4/1/2020   \n",
       "206208    80148    Cynthia     Noble  Female        New York   55    4/1/2020   \n",
       "\n",
       "        n_dependants fam_status  income  \n",
       "0                  3    married  165665  \n",
       "1                  0     single   59285  \n",
       "2                  2    married   99568  \n",
       "3                  0     single   42049  \n",
       "4                  1    married   40374  \n",
       "...              ...        ...     ...  \n",
       "206204             1    married  148828  \n",
       "206205             3    married  168639  \n",
       "206206             2    married   53374  \n",
       "206207             1    married   99799  \n",
       "206208             1    married   57095  \n",
       "\n",
       "[206209 rows x 10 columns]"
      ]
     },
     "execution_count": 7,
     "metadata": {},
     "output_type": "execute_result"
    }
   ],
   "source": [
    "cust"
   ]
  },
  {
   "cell_type": "code",
   "execution_count": 9,
   "id": "8ef0d3b8",
   "metadata": {},
   "outputs": [
    {
     "data": {
      "text/plain": [
       "(32404859, 25)"
      ]
     },
     "execution_count": 9,
     "metadata": {},
     "output_type": "execute_result"
    }
   ],
   "source": [
    "ords_prods.shape"
   ]
  },
  {
   "cell_type": "code",
   "execution_count": 10,
   "id": "c4c08f77",
   "metadata": {},
   "outputs": [
    {
     "data": {
      "text/plain": [
       "(206209, 10)"
      ]
     },
     "execution_count": 10,
     "metadata": {},
     "output_type": "execute_result"
    }
   ],
   "source": [
    "cust.shape"
   ]
  },
  {
   "cell_type": "markdown",
   "id": "7b8b855d",
   "metadata": {},
   "source": [
    "## Step 4 - Wrangling new customers dataframe"
   ]
  },
  {
   "cell_type": "code",
   "execution_count": 11,
   "id": "6b221e00",
   "metadata": {},
   "outputs": [],
   "source": [
    "# changing column names\n",
    "cust.rename(columns = {'First Name' : 'first_name'}, inplace = True)"
   ]
  },
  {
   "cell_type": "code",
   "execution_count": 12,
   "id": "f2f3b4a6",
   "metadata": {},
   "outputs": [],
   "source": [
    "cust.rename(columns = {'Surnam' : 'last_name'}, inplace = True)"
   ]
  },
  {
   "cell_type": "code",
   "execution_count": 13,
   "id": "51425d48",
   "metadata": {},
   "outputs": [],
   "source": [
    "cust.rename(columns = {'Gender' : 'gender'}, inplace = True)"
   ]
  },
  {
   "cell_type": "code",
   "execution_count": 14,
   "id": "57aef218",
   "metadata": {},
   "outputs": [],
   "source": [
    "cust.rename(columns = {'Age' : 'age'}, inplace = True)"
   ]
  },
  {
   "cell_type": "code",
   "execution_count": 15,
   "id": "2a242b6e",
   "metadata": {},
   "outputs": [],
   "source": [
    "cust.rename(columns = {'STATE' : 'state'}, inplace = True)"
   ]
  },
  {
   "cell_type": "code",
   "execution_count": 16,
   "id": "4598fbce",
   "metadata": {},
   "outputs": [],
   "source": [
    "cust.rename(columns = {'n_dependants' : 'number_of_dependants'}, inplace = True)"
   ]
  },
  {
   "cell_type": "code",
   "execution_count": 17,
   "id": "07041222",
   "metadata": {},
   "outputs": [],
   "source": [
    "cust.rename(columns = {'fam_status' : 'marital_status'}, inplace = True)"
   ]
  },
  {
   "cell_type": "code",
   "execution_count": 18,
   "id": "0ef787af",
   "metadata": {},
   "outputs": [
    {
     "data": {
      "text/html": [
       "<div>\n",
       "<style scoped>\n",
       "    .dataframe tbody tr th:only-of-type {\n",
       "        vertical-align: middle;\n",
       "    }\n",
       "\n",
       "    .dataframe tbody tr th {\n",
       "        vertical-align: top;\n",
       "    }\n",
       "\n",
       "    .dataframe thead th {\n",
       "        text-align: right;\n",
       "    }\n",
       "</style>\n",
       "<table border=\"1\" class=\"dataframe\">\n",
       "  <thead>\n",
       "    <tr style=\"text-align: right;\">\n",
       "      <th></th>\n",
       "      <th>user_id</th>\n",
       "      <th>first_name</th>\n",
       "      <th>last_name</th>\n",
       "      <th>gender</th>\n",
       "      <th>state</th>\n",
       "      <th>age</th>\n",
       "      <th>date_joined</th>\n",
       "      <th>number_of_dependants</th>\n",
       "      <th>marital_status</th>\n",
       "      <th>income</th>\n",
       "    </tr>\n",
       "  </thead>\n",
       "  <tbody>\n",
       "    <tr>\n",
       "      <th>0</th>\n",
       "      <td>26711</td>\n",
       "      <td>Deborah</td>\n",
       "      <td>Esquivel</td>\n",
       "      <td>Female</td>\n",
       "      <td>Missouri</td>\n",
       "      <td>48</td>\n",
       "      <td>1/1/2017</td>\n",
       "      <td>3</td>\n",
       "      <td>married</td>\n",
       "      <td>165665</td>\n",
       "    </tr>\n",
       "    <tr>\n",
       "      <th>1</th>\n",
       "      <td>33890</td>\n",
       "      <td>Patricia</td>\n",
       "      <td>Hart</td>\n",
       "      <td>Female</td>\n",
       "      <td>New Mexico</td>\n",
       "      <td>36</td>\n",
       "      <td>1/1/2017</td>\n",
       "      <td>0</td>\n",
       "      <td>single</td>\n",
       "      <td>59285</td>\n",
       "    </tr>\n",
       "    <tr>\n",
       "      <th>2</th>\n",
       "      <td>65803</td>\n",
       "      <td>Kenneth</td>\n",
       "      <td>Farley</td>\n",
       "      <td>Male</td>\n",
       "      <td>Idaho</td>\n",
       "      <td>35</td>\n",
       "      <td>1/1/2017</td>\n",
       "      <td>2</td>\n",
       "      <td>married</td>\n",
       "      <td>99568</td>\n",
       "    </tr>\n",
       "    <tr>\n",
       "      <th>3</th>\n",
       "      <td>125935</td>\n",
       "      <td>Michelle</td>\n",
       "      <td>Hicks</td>\n",
       "      <td>Female</td>\n",
       "      <td>Iowa</td>\n",
       "      <td>40</td>\n",
       "      <td>1/1/2017</td>\n",
       "      <td>0</td>\n",
       "      <td>single</td>\n",
       "      <td>42049</td>\n",
       "    </tr>\n",
       "    <tr>\n",
       "      <th>4</th>\n",
       "      <td>130797</td>\n",
       "      <td>Ann</td>\n",
       "      <td>Gilmore</td>\n",
       "      <td>Female</td>\n",
       "      <td>Maryland</td>\n",
       "      <td>26</td>\n",
       "      <td>1/1/2017</td>\n",
       "      <td>1</td>\n",
       "      <td>married</td>\n",
       "      <td>40374</td>\n",
       "    </tr>\n",
       "  </tbody>\n",
       "</table>\n",
       "</div>"
      ],
      "text/plain": [
       "   user_id first_name last_name  gender       state  age date_joined  \\\n",
       "0    26711    Deborah  Esquivel  Female    Missouri   48    1/1/2017   \n",
       "1    33890   Patricia      Hart  Female  New Mexico   36    1/1/2017   \n",
       "2    65803    Kenneth    Farley    Male       Idaho   35    1/1/2017   \n",
       "3   125935   Michelle     Hicks  Female        Iowa   40    1/1/2017   \n",
       "4   130797        Ann   Gilmore  Female    Maryland   26    1/1/2017   \n",
       "\n",
       "   number_of_dependants marital_status  income  \n",
       "0                     3        married  165665  \n",
       "1                     0         single   59285  \n",
       "2                     2        married   99568  \n",
       "3                     0         single   42049  \n",
       "4                     1        married   40374  "
      ]
     },
     "execution_count": 18,
     "metadata": {},
     "output_type": "execute_result"
    }
   ],
   "source": [
    "cust.head()"
   ]
  },
  {
   "cell_type": "markdown",
   "id": "f6625ca5",
   "metadata": {},
   "source": [
    "### I renamed all columns where necessary, but didn't drop any. I don't know which columns I will be needing in part two."
   ]
  },
  {
   "cell_type": "markdown",
   "id": "be52a45c",
   "metadata": {},
   "source": [
    "## Step 5 - Complete all fundamental data quality and consistency checks"
   ]
  },
  {
   "cell_type": "code",
   "execution_count": 19,
   "id": "c0e1cc74",
   "metadata": {},
   "outputs": [
    {
     "data": {
      "text/html": [
       "<div>\n",
       "<style scoped>\n",
       "    .dataframe tbody tr th:only-of-type {\n",
       "        vertical-align: middle;\n",
       "    }\n",
       "\n",
       "    .dataframe tbody tr th {\n",
       "        vertical-align: top;\n",
       "    }\n",
       "\n",
       "    .dataframe thead th {\n",
       "        text-align: right;\n",
       "    }\n",
       "</style>\n",
       "<table border=\"1\" class=\"dataframe\">\n",
       "  <thead>\n",
       "    <tr style=\"text-align: right;\">\n",
       "      <th></th>\n",
       "      <th>user_id</th>\n",
       "      <th>age</th>\n",
       "      <th>number_of_dependants</th>\n",
       "      <th>income</th>\n",
       "    </tr>\n",
       "  </thead>\n",
       "  <tbody>\n",
       "    <tr>\n",
       "      <th>count</th>\n",
       "      <td>206209.000000</td>\n",
       "      <td>206209.000000</td>\n",
       "      <td>206209.000000</td>\n",
       "      <td>206209.000000</td>\n",
       "    </tr>\n",
       "    <tr>\n",
       "      <th>mean</th>\n",
       "      <td>103105.000000</td>\n",
       "      <td>49.501646</td>\n",
       "      <td>1.499823</td>\n",
       "      <td>94632.852548</td>\n",
       "    </tr>\n",
       "    <tr>\n",
       "      <th>std</th>\n",
       "      <td>59527.555167</td>\n",
       "      <td>18.480962</td>\n",
       "      <td>1.118433</td>\n",
       "      <td>42473.786988</td>\n",
       "    </tr>\n",
       "    <tr>\n",
       "      <th>min</th>\n",
       "      <td>1.000000</td>\n",
       "      <td>18.000000</td>\n",
       "      <td>0.000000</td>\n",
       "      <td>25903.000000</td>\n",
       "    </tr>\n",
       "    <tr>\n",
       "      <th>25%</th>\n",
       "      <td>51553.000000</td>\n",
       "      <td>33.000000</td>\n",
       "      <td>0.000000</td>\n",
       "      <td>59874.000000</td>\n",
       "    </tr>\n",
       "    <tr>\n",
       "      <th>50%</th>\n",
       "      <td>103105.000000</td>\n",
       "      <td>49.000000</td>\n",
       "      <td>1.000000</td>\n",
       "      <td>93547.000000</td>\n",
       "    </tr>\n",
       "    <tr>\n",
       "      <th>75%</th>\n",
       "      <td>154657.000000</td>\n",
       "      <td>66.000000</td>\n",
       "      <td>3.000000</td>\n",
       "      <td>124244.000000</td>\n",
       "    </tr>\n",
       "    <tr>\n",
       "      <th>max</th>\n",
       "      <td>206209.000000</td>\n",
       "      <td>81.000000</td>\n",
       "      <td>3.000000</td>\n",
       "      <td>593901.000000</td>\n",
       "    </tr>\n",
       "  </tbody>\n",
       "</table>\n",
       "</div>"
      ],
      "text/plain": [
       "             user_id            age  number_of_dependants         income\n",
       "count  206209.000000  206209.000000         206209.000000  206209.000000\n",
       "mean   103105.000000      49.501646              1.499823   94632.852548\n",
       "std     59527.555167      18.480962              1.118433   42473.786988\n",
       "min         1.000000      18.000000              0.000000   25903.000000\n",
       "25%     51553.000000      33.000000              0.000000   59874.000000\n",
       "50%    103105.000000      49.000000              1.000000   93547.000000\n",
       "75%    154657.000000      66.000000              3.000000  124244.000000\n",
       "max    206209.000000      81.000000              3.000000  593901.000000"
      ]
     },
     "execution_count": 19,
     "metadata": {},
     "output_type": "execute_result"
    }
   ],
   "source": [
    "cust.describe()"
   ]
  },
  {
   "cell_type": "code",
   "execution_count": 20,
   "id": "f05fbaca",
   "metadata": {},
   "outputs": [
    {
     "name": "stdout",
     "output_type": "stream",
     "text": [
      "<class 'pandas.core.frame.DataFrame'>\n",
      "RangeIndex: 206209 entries, 0 to 206208\n",
      "Data columns (total 10 columns):\n",
      " #   Column                Non-Null Count   Dtype \n",
      "---  ------                --------------   ----- \n",
      " 0   user_id               206209 non-null  int64 \n",
      " 1   first_name            194950 non-null  object\n",
      " 2   last_name             206209 non-null  object\n",
      " 3   gender                206209 non-null  object\n",
      " 4   state                 206209 non-null  object\n",
      " 5   age                   206209 non-null  int64 \n",
      " 6   date_joined           206209 non-null  object\n",
      " 7   number_of_dependants  206209 non-null  int64 \n",
      " 8   marital_status        206209 non-null  object\n",
      " 9   income                206209 non-null  int64 \n",
      "dtypes: int64(4), object(6)\n",
      "memory usage: 15.7+ MB\n"
     ]
    }
   ],
   "source": [
    "cust.info()"
   ]
  },
  {
   "cell_type": "code",
   "execution_count": 21,
   "id": "997073f5",
   "metadata": {},
   "outputs": [],
   "source": [
    "# changing data type for user_id\n",
    "cust['user_id'] = cust['user_id'].astype('str')"
   ]
  },
  {
   "cell_type": "code",
   "execution_count": 22,
   "id": "3648eb28",
   "metadata": {},
   "outputs": [
    {
     "name": "stdout",
     "output_type": "stream",
     "text": [
      "<class 'pandas.core.frame.DataFrame'>\n",
      "RangeIndex: 206209 entries, 0 to 206208\n",
      "Data columns (total 10 columns):\n",
      " #   Column                Non-Null Count   Dtype \n",
      "---  ------                --------------   ----- \n",
      " 0   user_id               206209 non-null  object\n",
      " 1   first_name            194950 non-null  object\n",
      " 2   last_name             206209 non-null  object\n",
      " 3   gender                206209 non-null  object\n",
      " 4   state                 206209 non-null  object\n",
      " 5   age                   206209 non-null  int64 \n",
      " 6   date_joined           206209 non-null  object\n",
      " 7   number_of_dependants  206209 non-null  int64 \n",
      " 8   marital_status        206209 non-null  object\n",
      " 9   income                206209 non-null  int64 \n",
      "dtypes: int64(3), object(7)\n",
      "memory usage: 15.7+ MB\n"
     ]
    }
   ],
   "source": [
    "cust.info()"
   ]
  },
  {
   "cell_type": "code",
   "execution_count": 24,
   "id": "79edd074",
   "metadata": {},
   "outputs": [],
   "source": [
    "ords_prods['user_id'] = ords_prods['user_id'].astype('str')"
   ]
  },
  {
   "cell_type": "code",
   "execution_count": 40,
   "id": "b521e32e",
   "metadata": {},
   "outputs": [
    {
     "name": "stdout",
     "output_type": "stream",
     "text": [
      "<class 'pandas.core.frame.DataFrame'>\n",
      "RangeIndex: 32404859 entries, 0 to 32404858\n",
      "Data columns (total 25 columns):\n",
      " #   Column                  Dtype   \n",
      "---  ------                  -----   \n",
      " 0   order_id                int64   \n",
      " 1   user_id                 object  \n",
      " 2   order_number            int64   \n",
      " 3   orders_day_of_week      int64   \n",
      " 4   order_hour_of_day       int64   \n",
      " 5   days_since_prior_order  float64 \n",
      " 6   product_id              int64   \n",
      " 7   add_to_cart_order       int64   \n",
      " 8   reordered               int64   \n",
      " 9   product_name            object  \n",
      " 10  aisle_id                int64   \n",
      " 11  department_id           int64   \n",
      " 12  prices                  float64 \n",
      " 13  _merge                  category\n",
      " 14  price_range_loc         object  \n",
      " 15  busiest_day             object  \n",
      " 16  busiest_days            object  \n",
      " 17  least_busy_days         object  \n",
      " 18  busiest_period_of_day   object  \n",
      " 19  max_order               int64   \n",
      " 20  loyalty_flag            object  \n",
      " 21  mean_price              float64 \n",
      " 22  spending_flag           object  \n",
      " 23  median_days             float64 \n",
      " 24  frequency_flag          object  \n",
      "dtypes: category(1), float64(4), int64(10), object(10)\n",
      "memory usage: 5.8+ GB\n"
     ]
    }
   ],
   "source": [
    "ords_prods.info()"
   ]
  },
  {
   "cell_type": "code",
   "execution_count": 25,
   "id": "63260b9f",
   "metadata": {},
   "outputs": [
    {
     "data": {
      "text/plain": [
       "dtype('O')"
      ]
     },
     "execution_count": 25,
     "metadata": {},
     "output_type": "execute_result"
    }
   ],
   "source": [
    "cust['user_id'].dtype"
   ]
  },
  {
   "cell_type": "code",
   "execution_count": 26,
   "id": "b2b68536",
   "metadata": {},
   "outputs": [
    {
     "data": {
      "text/plain": [
       "dtype('O')"
      ]
     },
     "execution_count": 26,
     "metadata": {},
     "output_type": "execute_result"
    }
   ],
   "source": [
    "ords_prods['user_id'].dtype"
   ]
  },
  {
   "cell_type": "code",
   "execution_count": 27,
   "id": "2f9fc36b",
   "metadata": {},
   "outputs": [
    {
     "data": {
      "text/plain": [
       "user_id                     0\n",
       "first_name              11259\n",
       "last_name                   0\n",
       "gender                      0\n",
       "state                       0\n",
       "age                         0\n",
       "date_joined                 0\n",
       "number_of_dependants        0\n",
       "marital_status              0\n",
       "income                      0\n",
       "dtype: int64"
      ]
     },
     "execution_count": 27,
     "metadata": {},
     "output_type": "execute_result"
    }
   ],
   "source": [
    "# Checkking for missing values\n",
    "cust.isnull().sum()"
   ]
  },
  {
   "cell_type": "code",
   "execution_count": 29,
   "id": "977462d2",
   "metadata": {},
   "outputs": [
    {
     "data": {
      "text/plain": [
       "first_name\n",
       "NaN        11259\n",
       "Marilyn     2213\n",
       "Barbara     2154\n",
       "Todd        2113\n",
       "Jeremy      2104\n",
       "           ...  \n",
       "Merry        197\n",
       "Eugene       197\n",
       "Garry        191\n",
       "Ned          186\n",
       "David        186\n",
       "Name: count, Length: 208, dtype: int64"
      ]
     },
     "execution_count": 29,
     "metadata": {},
     "output_type": "execute_result"
    }
   ],
   "source": [
    "cust['first_name'].value_counts(dropna = False)"
   ]
  },
  {
   "cell_type": "code",
   "execution_count": 30,
   "id": "b77a4d74",
   "metadata": {},
   "outputs": [],
   "source": [
    "# Checking for duplicates\n",
    "df_dups = cust[cust.duplicated()]"
   ]
  },
  {
   "cell_type": "code",
   "execution_count": 31,
   "id": "c2ec41aa",
   "metadata": {},
   "outputs": [
    {
     "data": {
      "text/html": [
       "<div>\n",
       "<style scoped>\n",
       "    .dataframe tbody tr th:only-of-type {\n",
       "        vertical-align: middle;\n",
       "    }\n",
       "\n",
       "    .dataframe tbody tr th {\n",
       "        vertical-align: top;\n",
       "    }\n",
       "\n",
       "    .dataframe thead th {\n",
       "        text-align: right;\n",
       "    }\n",
       "</style>\n",
       "<table border=\"1\" class=\"dataframe\">\n",
       "  <thead>\n",
       "    <tr style=\"text-align: right;\">\n",
       "      <th></th>\n",
       "      <th>user_id</th>\n",
       "      <th>first_name</th>\n",
       "      <th>last_name</th>\n",
       "      <th>gender</th>\n",
       "      <th>state</th>\n",
       "      <th>age</th>\n",
       "      <th>date_joined</th>\n",
       "      <th>number_of_dependants</th>\n",
       "      <th>marital_status</th>\n",
       "      <th>income</th>\n",
       "    </tr>\n",
       "  </thead>\n",
       "  <tbody>\n",
       "  </tbody>\n",
       "</table>\n",
       "</div>"
      ],
      "text/plain": [
       "Empty DataFrame\n",
       "Columns: [user_id, first_name, last_name, gender, state, age, date_joined, number_of_dependants, marital_status, income]\n",
       "Index: []"
      ]
     },
     "execution_count": 31,
     "metadata": {},
     "output_type": "execute_result"
    }
   ],
   "source": [
    "df_dups"
   ]
  },
  {
   "cell_type": "markdown",
   "id": "bd7c1716",
   "metadata": {},
   "source": [
    "### No duplicates found!"
   ]
  },
  {
   "cell_type": "code",
   "execution_count": 32,
   "id": "65da6783",
   "metadata": {},
   "outputs": [
    {
     "name": "stdout",
     "output_type": "stream",
     "text": [
      "first_name\n"
     ]
    }
   ],
   "source": [
    "# Checking if dataframe contains any mixed-type columns\n",
    "\n",
    "for col in cust.columns.tolist():\n",
    "  weird = (cust[[col]].applymap(type) != cust[[col]].iloc[0].apply(type)).any(axis = 1)\n",
    "  if len (cust[weird]) > 0:\n",
    "    print (col)"
   ]
  },
  {
   "cell_type": "markdown",
   "id": "0b6647aa",
   "metadata": {},
   "source": [
    "### Only first_name column contains mixed values. That should be due to the missing values. I'm also not dropping or changing any values in that column. It won't make a difference to me unless the US Bureau wants statistics about first names."
   ]
  },
  {
   "cell_type": "markdown",
   "id": "a3880dd8",
   "metadata": {},
   "source": [
    "### All wrangling and consistancy checks done!"
   ]
  },
  {
   "cell_type": "markdown",
   "id": "f08c580d",
   "metadata": {},
   "source": [
    "## Step 6 - Combining the two data sets"
   ]
  },
  {
   "cell_type": "code",
   "execution_count": 33,
   "id": "cce9c715",
   "metadata": {},
   "outputs": [
    {
     "data": {
      "text/html": [
       "<div>\n",
       "<style scoped>\n",
       "    .dataframe tbody tr th:only-of-type {\n",
       "        vertical-align: middle;\n",
       "    }\n",
       "\n",
       "    .dataframe tbody tr th {\n",
       "        vertical-align: top;\n",
       "    }\n",
       "\n",
       "    .dataframe thead th {\n",
       "        text-align: right;\n",
       "    }\n",
       "</style>\n",
       "<table border=\"1\" class=\"dataframe\">\n",
       "  <thead>\n",
       "    <tr style=\"text-align: right;\">\n",
       "      <th></th>\n",
       "      <th>order_id</th>\n",
       "      <th>user_id</th>\n",
       "      <th>order_number</th>\n",
       "      <th>orders_day_of_week</th>\n",
       "      <th>order_hour_of_day</th>\n",
       "      <th>days_since_prior_order</th>\n",
       "      <th>product_id</th>\n",
       "      <th>add_to_cart_order</th>\n",
       "      <th>reordered</th>\n",
       "      <th>product_name</th>\n",
       "      <th>...</th>\n",
       "      <th>busiest_day</th>\n",
       "      <th>busiest_days</th>\n",
       "      <th>least_busy_days</th>\n",
       "      <th>busiest_period_of_day</th>\n",
       "      <th>max_order</th>\n",
       "      <th>loyalty_flag</th>\n",
       "      <th>mean_price</th>\n",
       "      <th>spending_flag</th>\n",
       "      <th>median_days</th>\n",
       "      <th>frequency_flag</th>\n",
       "    </tr>\n",
       "  </thead>\n",
       "  <tbody>\n",
       "    <tr>\n",
       "      <th>0</th>\n",
       "      <td>2539329</td>\n",
       "      <td>1</td>\n",
       "      <td>1</td>\n",
       "      <td>2</td>\n",
       "      <td>8</td>\n",
       "      <td>NaN</td>\n",
       "      <td>196</td>\n",
       "      <td>1</td>\n",
       "      <td>0</td>\n",
       "      <td>Soda</td>\n",
       "      <td>...</td>\n",
       "      <td>Regularly busy</td>\n",
       "      <td>Regularly days</td>\n",
       "      <td>Regularly days</td>\n",
       "      <td>Average orders</td>\n",
       "      <td>10</td>\n",
       "      <td>New customer</td>\n",
       "      <td>6.367797</td>\n",
       "      <td>Low spender</td>\n",
       "      <td>20.5</td>\n",
       "      <td>Non-frequent customer</td>\n",
       "    </tr>\n",
       "    <tr>\n",
       "      <th>1</th>\n",
       "      <td>2398795</td>\n",
       "      <td>1</td>\n",
       "      <td>2</td>\n",
       "      <td>3</td>\n",
       "      <td>7</td>\n",
       "      <td>15.0</td>\n",
       "      <td>196</td>\n",
       "      <td>1</td>\n",
       "      <td>1</td>\n",
       "      <td>Soda</td>\n",
       "      <td>...</td>\n",
       "      <td>Regularly busy</td>\n",
       "      <td>Least busy days</td>\n",
       "      <td>Least busy days</td>\n",
       "      <td>Average orders</td>\n",
       "      <td>10</td>\n",
       "      <td>New customer</td>\n",
       "      <td>6.367797</td>\n",
       "      <td>Low spender</td>\n",
       "      <td>20.5</td>\n",
       "      <td>Non-frequent customer</td>\n",
       "    </tr>\n",
       "    <tr>\n",
       "      <th>2</th>\n",
       "      <td>473747</td>\n",
       "      <td>1</td>\n",
       "      <td>3</td>\n",
       "      <td>3</td>\n",
       "      <td>12</td>\n",
       "      <td>21.0</td>\n",
       "      <td>196</td>\n",
       "      <td>1</td>\n",
       "      <td>1</td>\n",
       "      <td>Soda</td>\n",
       "      <td>...</td>\n",
       "      <td>Regularly busy</td>\n",
       "      <td>Least busy days</td>\n",
       "      <td>Least busy days</td>\n",
       "      <td>Most orders</td>\n",
       "      <td>10</td>\n",
       "      <td>New customer</td>\n",
       "      <td>6.367797</td>\n",
       "      <td>Low spender</td>\n",
       "      <td>20.5</td>\n",
       "      <td>Non-frequent customer</td>\n",
       "    </tr>\n",
       "    <tr>\n",
       "      <th>3</th>\n",
       "      <td>2254736</td>\n",
       "      <td>1</td>\n",
       "      <td>4</td>\n",
       "      <td>4</td>\n",
       "      <td>7</td>\n",
       "      <td>29.0</td>\n",
       "      <td>196</td>\n",
       "      <td>1</td>\n",
       "      <td>1</td>\n",
       "      <td>Soda</td>\n",
       "      <td>...</td>\n",
       "      <td>Least busy</td>\n",
       "      <td>Least busy days</td>\n",
       "      <td>Least busy days</td>\n",
       "      <td>Average orders</td>\n",
       "      <td>10</td>\n",
       "      <td>New customer</td>\n",
       "      <td>6.367797</td>\n",
       "      <td>Low spender</td>\n",
       "      <td>20.5</td>\n",
       "      <td>Non-frequent customer</td>\n",
       "    </tr>\n",
       "    <tr>\n",
       "      <th>4</th>\n",
       "      <td>431534</td>\n",
       "      <td>1</td>\n",
       "      <td>5</td>\n",
       "      <td>4</td>\n",
       "      <td>15</td>\n",
       "      <td>28.0</td>\n",
       "      <td>196</td>\n",
       "      <td>1</td>\n",
       "      <td>1</td>\n",
       "      <td>Soda</td>\n",
       "      <td>...</td>\n",
       "      <td>Least busy</td>\n",
       "      <td>Least busy days</td>\n",
       "      <td>Least busy days</td>\n",
       "      <td>Most orders</td>\n",
       "      <td>10</td>\n",
       "      <td>New customer</td>\n",
       "      <td>6.367797</td>\n",
       "      <td>Low spender</td>\n",
       "      <td>20.5</td>\n",
       "      <td>Non-frequent customer</td>\n",
       "    </tr>\n",
       "  </tbody>\n",
       "</table>\n",
       "<p>5 rows × 25 columns</p>\n",
       "</div>"
      ],
      "text/plain": [
       "   order_id user_id  order_number  orders_day_of_week  order_hour_of_day  \\\n",
       "0   2539329       1             1                   2                  8   \n",
       "1   2398795       1             2                   3                  7   \n",
       "2    473747       1             3                   3                 12   \n",
       "3   2254736       1             4                   4                  7   \n",
       "4    431534       1             5                   4                 15   \n",
       "\n",
       "   days_since_prior_order  product_id  add_to_cart_order  reordered  \\\n",
       "0                     NaN         196                  1          0   \n",
       "1                    15.0         196                  1          1   \n",
       "2                    21.0         196                  1          1   \n",
       "3                    29.0         196                  1          1   \n",
       "4                    28.0         196                  1          1   \n",
       "\n",
       "  product_name  ...     busiest_day     busiest_days  least_busy_days  \\\n",
       "0         Soda  ...  Regularly busy   Regularly days   Regularly days   \n",
       "1         Soda  ...  Regularly busy  Least busy days  Least busy days   \n",
       "2         Soda  ...  Regularly busy  Least busy days  Least busy days   \n",
       "3         Soda  ...      Least busy  Least busy days  Least busy days   \n",
       "4         Soda  ...      Least busy  Least busy days  Least busy days   \n",
       "\n",
       "  busiest_period_of_day max_order  loyalty_flag mean_price spending_flag  \\\n",
       "0        Average orders        10  New customer   6.367797   Low spender   \n",
       "1        Average orders        10  New customer   6.367797   Low spender   \n",
       "2           Most orders        10  New customer   6.367797   Low spender   \n",
       "3        Average orders        10  New customer   6.367797   Low spender   \n",
       "4           Most orders        10  New customer   6.367797   Low spender   \n",
       "\n",
       "  median_days         frequency_flag  \n",
       "0        20.5  Non-frequent customer  \n",
       "1        20.5  Non-frequent customer  \n",
       "2        20.5  Non-frequent customer  \n",
       "3        20.5  Non-frequent customer  \n",
       "4        20.5  Non-frequent customer  \n",
       "\n",
       "[5 rows x 25 columns]"
      ]
     },
     "execution_count": 33,
     "metadata": {},
     "output_type": "execute_result"
    }
   ],
   "source": [
    "ords_prods.head()"
   ]
  },
  {
   "cell_type": "code",
   "execution_count": 34,
   "id": "0eb8a4e1",
   "metadata": {},
   "outputs": [
    {
     "data": {
      "text/html": [
       "<div>\n",
       "<style scoped>\n",
       "    .dataframe tbody tr th:only-of-type {\n",
       "        vertical-align: middle;\n",
       "    }\n",
       "\n",
       "    .dataframe tbody tr th {\n",
       "        vertical-align: top;\n",
       "    }\n",
       "\n",
       "    .dataframe thead th {\n",
       "        text-align: right;\n",
       "    }\n",
       "</style>\n",
       "<table border=\"1\" class=\"dataframe\">\n",
       "  <thead>\n",
       "    <tr style=\"text-align: right;\">\n",
       "      <th></th>\n",
       "      <th>user_id</th>\n",
       "      <th>first_name</th>\n",
       "      <th>last_name</th>\n",
       "      <th>gender</th>\n",
       "      <th>state</th>\n",
       "      <th>age</th>\n",
       "      <th>date_joined</th>\n",
       "      <th>number_of_dependants</th>\n",
       "      <th>marital_status</th>\n",
       "      <th>income</th>\n",
       "    </tr>\n",
       "  </thead>\n",
       "  <tbody>\n",
       "    <tr>\n",
       "      <th>0</th>\n",
       "      <td>26711</td>\n",
       "      <td>Deborah</td>\n",
       "      <td>Esquivel</td>\n",
       "      <td>Female</td>\n",
       "      <td>Missouri</td>\n",
       "      <td>48</td>\n",
       "      <td>1/1/2017</td>\n",
       "      <td>3</td>\n",
       "      <td>married</td>\n",
       "      <td>165665</td>\n",
       "    </tr>\n",
       "    <tr>\n",
       "      <th>1</th>\n",
       "      <td>33890</td>\n",
       "      <td>Patricia</td>\n",
       "      <td>Hart</td>\n",
       "      <td>Female</td>\n",
       "      <td>New Mexico</td>\n",
       "      <td>36</td>\n",
       "      <td>1/1/2017</td>\n",
       "      <td>0</td>\n",
       "      <td>single</td>\n",
       "      <td>59285</td>\n",
       "    </tr>\n",
       "    <tr>\n",
       "      <th>2</th>\n",
       "      <td>65803</td>\n",
       "      <td>Kenneth</td>\n",
       "      <td>Farley</td>\n",
       "      <td>Male</td>\n",
       "      <td>Idaho</td>\n",
       "      <td>35</td>\n",
       "      <td>1/1/2017</td>\n",
       "      <td>2</td>\n",
       "      <td>married</td>\n",
       "      <td>99568</td>\n",
       "    </tr>\n",
       "    <tr>\n",
       "      <th>3</th>\n",
       "      <td>125935</td>\n",
       "      <td>Michelle</td>\n",
       "      <td>Hicks</td>\n",
       "      <td>Female</td>\n",
       "      <td>Iowa</td>\n",
       "      <td>40</td>\n",
       "      <td>1/1/2017</td>\n",
       "      <td>0</td>\n",
       "      <td>single</td>\n",
       "      <td>42049</td>\n",
       "    </tr>\n",
       "    <tr>\n",
       "      <th>4</th>\n",
       "      <td>130797</td>\n",
       "      <td>Ann</td>\n",
       "      <td>Gilmore</td>\n",
       "      <td>Female</td>\n",
       "      <td>Maryland</td>\n",
       "      <td>26</td>\n",
       "      <td>1/1/2017</td>\n",
       "      <td>1</td>\n",
       "      <td>married</td>\n",
       "      <td>40374</td>\n",
       "    </tr>\n",
       "  </tbody>\n",
       "</table>\n",
       "</div>"
      ],
      "text/plain": [
       "  user_id first_name last_name  gender       state  age date_joined  \\\n",
       "0   26711    Deborah  Esquivel  Female    Missouri   48    1/1/2017   \n",
       "1   33890   Patricia      Hart  Female  New Mexico   36    1/1/2017   \n",
       "2   65803    Kenneth    Farley    Male       Idaho   35    1/1/2017   \n",
       "3  125935   Michelle     Hicks  Female        Iowa   40    1/1/2017   \n",
       "4  130797        Ann   Gilmore  Female    Maryland   26    1/1/2017   \n",
       "\n",
       "   number_of_dependants marital_status  income  \n",
       "0                     3        married  165665  \n",
       "1                     0         single   59285  \n",
       "2                     2        married   99568  \n",
       "3                     0         single   42049  \n",
       "4                     1        married   40374  "
      ]
     },
     "execution_count": 34,
     "metadata": {},
     "output_type": "execute_result"
    }
   ],
   "source": [
    "cust.head()"
   ]
  },
  {
   "cell_type": "code",
   "execution_count": 35,
   "id": "1086dae8",
   "metadata": {},
   "outputs": [],
   "source": [
    "# Combining the two dataframes using 'user_id' column\n",
    "ords_prods_cust = ords_prods.merge(cust, on = 'user_id')"
   ]
  },
  {
   "cell_type": "code",
   "execution_count": 36,
   "id": "04b06777",
   "metadata": {},
   "outputs": [
    {
     "data": {
      "text/html": [
       "<div>\n",
       "<style scoped>\n",
       "    .dataframe tbody tr th:only-of-type {\n",
       "        vertical-align: middle;\n",
       "    }\n",
       "\n",
       "    .dataframe tbody tr th {\n",
       "        vertical-align: top;\n",
       "    }\n",
       "\n",
       "    .dataframe thead th {\n",
       "        text-align: right;\n",
       "    }\n",
       "</style>\n",
       "<table border=\"1\" class=\"dataframe\">\n",
       "  <thead>\n",
       "    <tr style=\"text-align: right;\">\n",
       "      <th></th>\n",
       "      <th>order_id</th>\n",
       "      <th>user_id</th>\n",
       "      <th>order_number</th>\n",
       "      <th>orders_day_of_week</th>\n",
       "      <th>order_hour_of_day</th>\n",
       "      <th>days_since_prior_order</th>\n",
       "      <th>product_id</th>\n",
       "      <th>add_to_cart_order</th>\n",
       "      <th>reordered</th>\n",
       "      <th>product_name</th>\n",
       "      <th>...</th>\n",
       "      <th>frequency_flag</th>\n",
       "      <th>first_name</th>\n",
       "      <th>last_name</th>\n",
       "      <th>gender</th>\n",
       "      <th>state</th>\n",
       "      <th>age</th>\n",
       "      <th>date_joined</th>\n",
       "      <th>number_of_dependants</th>\n",
       "      <th>marital_status</th>\n",
       "      <th>income</th>\n",
       "    </tr>\n",
       "  </thead>\n",
       "  <tbody>\n",
       "    <tr>\n",
       "      <th>0</th>\n",
       "      <td>2539329</td>\n",
       "      <td>1</td>\n",
       "      <td>1</td>\n",
       "      <td>2</td>\n",
       "      <td>8</td>\n",
       "      <td>NaN</td>\n",
       "      <td>196</td>\n",
       "      <td>1</td>\n",
       "      <td>0</td>\n",
       "      <td>Soda</td>\n",
       "      <td>...</td>\n",
       "      <td>Non-frequent customer</td>\n",
       "      <td>Linda</td>\n",
       "      <td>Nguyen</td>\n",
       "      <td>Female</td>\n",
       "      <td>Alabama</td>\n",
       "      <td>31</td>\n",
       "      <td>2/17/2019</td>\n",
       "      <td>3</td>\n",
       "      <td>married</td>\n",
       "      <td>40423</td>\n",
       "    </tr>\n",
       "    <tr>\n",
       "      <th>1</th>\n",
       "      <td>2398795</td>\n",
       "      <td>1</td>\n",
       "      <td>2</td>\n",
       "      <td>3</td>\n",
       "      <td>7</td>\n",
       "      <td>15.0</td>\n",
       "      <td>196</td>\n",
       "      <td>1</td>\n",
       "      <td>1</td>\n",
       "      <td>Soda</td>\n",
       "      <td>...</td>\n",
       "      <td>Non-frequent customer</td>\n",
       "      <td>Linda</td>\n",
       "      <td>Nguyen</td>\n",
       "      <td>Female</td>\n",
       "      <td>Alabama</td>\n",
       "      <td>31</td>\n",
       "      <td>2/17/2019</td>\n",
       "      <td>3</td>\n",
       "      <td>married</td>\n",
       "      <td>40423</td>\n",
       "    </tr>\n",
       "    <tr>\n",
       "      <th>2</th>\n",
       "      <td>473747</td>\n",
       "      <td>1</td>\n",
       "      <td>3</td>\n",
       "      <td>3</td>\n",
       "      <td>12</td>\n",
       "      <td>21.0</td>\n",
       "      <td>196</td>\n",
       "      <td>1</td>\n",
       "      <td>1</td>\n",
       "      <td>Soda</td>\n",
       "      <td>...</td>\n",
       "      <td>Non-frequent customer</td>\n",
       "      <td>Linda</td>\n",
       "      <td>Nguyen</td>\n",
       "      <td>Female</td>\n",
       "      <td>Alabama</td>\n",
       "      <td>31</td>\n",
       "      <td>2/17/2019</td>\n",
       "      <td>3</td>\n",
       "      <td>married</td>\n",
       "      <td>40423</td>\n",
       "    </tr>\n",
       "    <tr>\n",
       "      <th>3</th>\n",
       "      <td>2254736</td>\n",
       "      <td>1</td>\n",
       "      <td>4</td>\n",
       "      <td>4</td>\n",
       "      <td>7</td>\n",
       "      <td>29.0</td>\n",
       "      <td>196</td>\n",
       "      <td>1</td>\n",
       "      <td>1</td>\n",
       "      <td>Soda</td>\n",
       "      <td>...</td>\n",
       "      <td>Non-frequent customer</td>\n",
       "      <td>Linda</td>\n",
       "      <td>Nguyen</td>\n",
       "      <td>Female</td>\n",
       "      <td>Alabama</td>\n",
       "      <td>31</td>\n",
       "      <td>2/17/2019</td>\n",
       "      <td>3</td>\n",
       "      <td>married</td>\n",
       "      <td>40423</td>\n",
       "    </tr>\n",
       "    <tr>\n",
       "      <th>4</th>\n",
       "      <td>431534</td>\n",
       "      <td>1</td>\n",
       "      <td>5</td>\n",
       "      <td>4</td>\n",
       "      <td>15</td>\n",
       "      <td>28.0</td>\n",
       "      <td>196</td>\n",
       "      <td>1</td>\n",
       "      <td>1</td>\n",
       "      <td>Soda</td>\n",
       "      <td>...</td>\n",
       "      <td>Non-frequent customer</td>\n",
       "      <td>Linda</td>\n",
       "      <td>Nguyen</td>\n",
       "      <td>Female</td>\n",
       "      <td>Alabama</td>\n",
       "      <td>31</td>\n",
       "      <td>2/17/2019</td>\n",
       "      <td>3</td>\n",
       "      <td>married</td>\n",
       "      <td>40423</td>\n",
       "    </tr>\n",
       "  </tbody>\n",
       "</table>\n",
       "<p>5 rows × 34 columns</p>\n",
       "</div>"
      ],
      "text/plain": [
       "   order_id user_id  order_number  orders_day_of_week  order_hour_of_day  \\\n",
       "0   2539329       1             1                   2                  8   \n",
       "1   2398795       1             2                   3                  7   \n",
       "2    473747       1             3                   3                 12   \n",
       "3   2254736       1             4                   4                  7   \n",
       "4    431534       1             5                   4                 15   \n",
       "\n",
       "   days_since_prior_order  product_id  add_to_cart_order  reordered  \\\n",
       "0                     NaN         196                  1          0   \n",
       "1                    15.0         196                  1          1   \n",
       "2                    21.0         196                  1          1   \n",
       "3                    29.0         196                  1          1   \n",
       "4                    28.0         196                  1          1   \n",
       "\n",
       "  product_name  ...         frequency_flag  first_name  last_name  gender  \\\n",
       "0         Soda  ...  Non-frequent customer       Linda     Nguyen  Female   \n",
       "1         Soda  ...  Non-frequent customer       Linda     Nguyen  Female   \n",
       "2         Soda  ...  Non-frequent customer       Linda     Nguyen  Female   \n",
       "3         Soda  ...  Non-frequent customer       Linda     Nguyen  Female   \n",
       "4         Soda  ...  Non-frequent customer       Linda     Nguyen  Female   \n",
       "\n",
       "     state age date_joined number_of_dependants marital_status  income  \n",
       "0  Alabama  31   2/17/2019                    3        married   40423  \n",
       "1  Alabama  31   2/17/2019                    3        married   40423  \n",
       "2  Alabama  31   2/17/2019                    3        married   40423  \n",
       "3  Alabama  31   2/17/2019                    3        married   40423  \n",
       "4  Alabama  31   2/17/2019                    3        married   40423  \n",
       "\n",
       "[5 rows x 34 columns]"
      ]
     },
     "execution_count": 36,
     "metadata": {},
     "output_type": "execute_result"
    }
   ],
   "source": [
    "# Checking newly merged df\n",
    "ords_prods_cust.head()"
   ]
  },
  {
   "cell_type": "code",
   "execution_count": 38,
   "id": "32fccea4",
   "metadata": {},
   "outputs": [
    {
     "data": {
      "text/plain": [
       "(32404859, 34)"
      ]
     },
     "execution_count": 38,
     "metadata": {},
     "output_type": "execute_result"
    }
   ],
   "source": [
    "ords_prods_cust.shape"
   ]
  },
  {
   "cell_type": "markdown",
   "id": "a0c1c7bc",
   "metadata": {},
   "source": [
    "### Merge completed"
   ]
  },
  {
   "cell_type": "markdown",
   "id": "d45d4c6d",
   "metadata": {},
   "source": [
    "## Step 7 - Done"
   ]
  },
  {
   "cell_type": "markdown",
   "id": "741680bb",
   "metadata": {},
   "source": [
    "## Step 8 - Export new dataframe"
   ]
  },
  {
   "cell_type": "code",
   "execution_count": 41,
   "id": "2ad41df7",
   "metadata": {},
   "outputs": [],
   "source": [
    "# Exporting newly-merged df\n",
    "ords_prods_cust.to_pickle(os.path.join(path, '02 Data', 'Prepared data', 'instacart_pkl'))"
   ]
  },
  {
   "cell_type": "markdown",
   "id": "bd11fb26",
   "metadata": {},
   "source": [
    "## Step 9 - done"
   ]
  },
  {
   "cell_type": "code",
   "execution_count": null,
   "id": "40a604c4",
   "metadata": {},
   "outputs": [],
   "source": []
  }
 ],
 "metadata": {
  "kernelspec": {
   "display_name": "Python 3 (ipykernel)",
   "language": "python",
   "name": "python3"
  },
  "language_info": {
   "codemirror_mode": {
    "name": "ipython",
    "version": 3
   },
   "file_extension": ".py",
   "mimetype": "text/x-python",
   "name": "python",
   "nbconvert_exporter": "python",
   "pygments_lexer": "ipython3",
   "version": "3.11.4"
  }
 },
 "nbformat": 4,
 "nbformat_minor": 5
}
